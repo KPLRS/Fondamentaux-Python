{
 "cells": [
  {
   "cell_type": "code",
   "execution_count": 13,
   "metadata": {},
   "outputs": [
    {
     "data": {
      "text/plain": [
       "['07 - Lesson - Functions.ipynb',\n",
       " '07 - Project - Caesar Cipher.ipynb',\n",
       " '08 - Project - Capitals and Frequency Count.ipynb',\n",
       " '09 - Lesson - CSV files.ipynb',\n",
       " '09 - Project - CSV files.ipynb',\n",
       " '10 - Lesson - Recursion.ipynb',\n",
       " '10 - Project - Tower of Hanoi.ipynb',\n",
       " '11 - Lesson - Comprehension.ipynb',\n",
       " '11 - Project - List and Dict Comprehension.ipynb',\n",
       " 'File.ipynb',\n",
       " 'files',\n",
       " 'img',\n",
       " 'Solution']"
      ]
     },
     "execution_count": 13,
     "metadata": {},
     "output_type": "execute_result"
    }
   ],
   "source": [
    "import os\n",
    "from pathlib import Path\n",
    "p=Path(\"Days_04-05/project/\")\n",
    "os.listdir(p)"
   ]
  },
  {
   "cell_type": "code",
   "execution_count": null,
   "metadata": {},
   "outputs": [],
   "source": []
  }
 ],
 "metadata": {
  "kernelspec": {
   "display_name": "env",
   "language": "python",
   "name": "python3"
  },
  "language_info": {
   "codemirror_mode": {
    "name": "ipython",
    "version": 3
   },
   "file_extension": ".py",
   "mimetype": "text/x-python",
   "name": "python",
   "nbconvert_exporter": "python",
   "pygments_lexer": "ipython3",
   "version": "3.11.0"
  },
  "orig_nbformat": 4,
  "vscode": {
   "interpreter": {
    "hash": "a535573ec38c0444cce32f4c997696b55d67f9e32ebf0e7a06a46f3ea7917ee8"
   }
  }
 },
 "nbformat": 4,
 "nbformat_minor": 2
}
